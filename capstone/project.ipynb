{
 "cells": [
  {
   "cell_type": "code",
   "execution_count": 5,
   "metadata": {
    "collapsed": false
   },
   "outputs": [
    {
     "name": "stdout",
     "output_type": "stream",
     "text": [
      "[Please Wait ....] Extracting Features\n",
      "[Please Wait ....] Training \n",
      "[Please Wait ....] Testing  \n",
      "Output using 75% data for Trainig and 25% data for Testing\n",
      "             precision    recall  f1-score   support\n",
      "\n",
      "      coast       0.85      0.83      0.84        93\n",
      "     forest       0.94      0.95      0.95        87\n",
      "    highway       0.86      0.70      0.77        63\n",
      "     street       0.76      0.91      0.83        67\n",
      "\n",
      "avg / total       0.86      0.85      0.85       310\n",
      "\n",
      "[PREDICTION] forest_for137.jpg: forest\n",
      "[PREDICTION] street_hexp30.jpg: street\n",
      "[PREDICTION] coast_n291057.jpg: coast\n",
      "[PREDICTION] street_gre193.jpg: street\n",
      "[PREDICTION] highway_bost180.jpg: highway\n",
      "[PREDICTION] coast_land902.jpg: coast\n",
      "[PREDICTION] forest_text29.jpg: forest\n",
      "[PREDICTION] street_boston61.jpg: street\n",
      "[PREDICTION] forest_nat361.jpg: forest\n",
      "[PREDICTION] highway_gre402.jpg: highway\n"
     ]
    }
   ],
   "source": [
    "# Arturo Polanco Lozano Capstone Udacity\n",
    "\n",
    "# import packages\n",
    "from sklearn.cross_validation import train_test_split\n",
    "from sklearn.metrics import classification_report\n",
    "from sklearn.ensemble import RandomForestClassifier\n",
    "from sklearn.tree import DecisionTreeClassifier\n",
    "from imutils import paths\n",
    "import numpy as np\n",
    "import mahotas\n",
    "import cv2\n",
    "\n",
    "def describe(image):\n",
    "\t# extract the mean and standard deviation from each channel of the image in the HSV color space\n",
    "\t(means, stds) = cv2.meanStdDev(cv2.cvtColor(image, cv2.COLOR_BGR2HSV))\n",
    "\tcolorStats = np.concatenate([means, stds]).flatten()\n",
    "\t# extract Haralick texture features\n",
    "\tgray = cv2.cvtColor(image, cv2.COLOR_BGR2GRAY)\n",
    "\tharalick = mahotas.features.haralick(gray).mean(axis=0)\n",
    "\t# return a concatenated feature vector of color statistics and Haralick\n",
    "\t# texture features\n",
    "\treturn np.hstack([colorStats, haralick])\n",
    "\n",
    "\n",
    "# grab the set of image paths and initialize the list of labels and matrix of features\n",
    "print(\"[Please Wait ....] Extracting Features\")\n",
    "imagePaths = sorted(paths.list_images('4scenes'))\n",
    "labels = []\n",
    "data = []\n",
    "\n",
    "# loop over the images in the input directory\n",
    "for imagePath in imagePaths:\n",
    "\t# extract the label and load the image from disk\n",
    "\tlabel = imagePath[imagePath.rfind(\"/\") + 1:].split(\"_\")[0]\n",
    "\timage = cv2.imread(imagePath)\n",
    "\t# extract features from the image, then update the list of lables and features\n",
    "\tfeatures = describe(image)\n",
    "\tlabels.append(label)\n",
    "\tdata.append(features)\n",
    "\n",
    "# construct the training and testing split by taking 75% of the data for training and 25% for testing\n",
    "(trainData, testData, trainLabels, testLabels) = train_test_split(np.array(data),\n",
    "\tnp.array(labels), test_size=0.25, random_state=42)\n",
    "\n",
    "# initialize the model as a random forest\n",
    "model = RandomForestClassifier(n_estimators=20, random_state=42)\n",
    "\n",
    "# train random forest\n",
    "print(\"[Please Wait ....] Training \")\n",
    "model.fit(trainData, trainLabels)\n",
    "# evaluate the classifier\n",
    "print(\"[Please Wait ....] Testing  \")\n",
    "predictions = model.predict(testData)\n",
    "print (\"Output using 75% data for Trainig and 25% data for Testing\")\n",
    "print(classification_report(testLabels, predictions))\n",
    "\n",
    "# loop over a few random images\n",
    "for i in np.random.randint(0, high=len(imagePaths), size=(10,)):\n",
    "\t# grab the image and classify it\n",
    "\timagePath = imagePaths[i]\n",
    "\tfilename = imagePath[imagePath.rfind(\"/\") + 1:]\n",
    "\timage = cv2.imread(imagePath)\n",
    "\tfeatures = describe(image)\n",
    "\tprediction = model.predict(features.reshape(1, -1))[0]\n",
    "\t# show the prediction\n",
    "\tprint(\"[PREDICTION] {}: {}\".format(filename, prediction))\n",
    "\tcv2.putText(image, prediction, (10, 30), cv2.FONT_HERSHEY_SIMPLEX, 1.0, (0, 255, 0), 2)\n",
    "\tcv2.imshow(\"4Scene Image Classification \", image)\n",
    "\tcv2.waitKey(0)\n",
    "\n",
    "\n"
   ]
  },
  {
   "cell_type": "code",
   "execution_count": null,
   "metadata": {
    "collapsed": true
   },
   "outputs": [],
   "source": []
  },
  {
   "cell_type": "code",
   "execution_count": null,
   "metadata": {
    "collapsed": true
   },
   "outputs": [],
   "source": []
  },
  {
   "cell_type": "code",
   "execution_count": null,
   "metadata": {
    "collapsed": true
   },
   "outputs": [],
   "source": []
  }
 ],
 "metadata": {
  "kernelspec": {
   "display_name": "Python 2",
   "language": "python",
   "name": "python2"
  },
  "language_info": {
   "codemirror_mode": {
    "name": "ipython",
    "version": 2
   },
   "file_extension": ".py",
   "mimetype": "text/x-python",
   "name": "python",
   "nbconvert_exporter": "python",
   "pygments_lexer": "ipython2",
   "version": "2.7.12"
  }
 },
 "nbformat": 4,
 "nbformat_minor": 0
}
